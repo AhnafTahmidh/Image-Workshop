{
  "cells": [
    {
      "cell_type": "markdown",
      "metadata": {
        "id": "view-in-github",
        "colab_type": "text"
      },
      "source": [
        "<a href=\"https://colab.research.google.com/github/detektor777/colab_list_image/blob/main/swin2sr.ipynb\" target=\"_parent\"><img src=\"https://colab.research.google.com/assets/colab-badge.svg\" alt=\"Open In Colab\"/></a>"
      ]
    },
    {
      "cell_type": "code",
      "execution_count": null,
      "metadata": {
        "id": "kD-CgUj3sBJj"
      },
      "outputs": [],
      "source": [
        "#@title ##**Install** { display-mode: \"form\" }\n",
        "\n",
        "!nvidia-smi\n",
        "! pip -q install timm\n",
        "! git clone https://github.com/mv-lab/swin2sr.git\n",
        "import os\n",
        "import cv2\n",
        "import numpy as np\n",
        "import matplotlib.pyplot as plt\n",
        "from glob import glob\n",
        "import shutil\n",
        "from tqdm import tqdm\n",
        "import shutil, sys\n",
        "import re\n",
        "import io\n",
        "import IPython.display\n",
        "import numpy as np\n",
        "import PIL.Image\n",
        "from google.colab import files\n",
        "import shutil\n",
        "\n",
        "os.chdir(\"./swin2sr\")\n",
        "\n",
        "def load_img (filename, debug=False, norm=True, resize=None):\n",
        "    img = cv2.imread(filename)\n",
        "    img = cv2.cvtColor(img, cv2.COLOR_BGR2RGB)\n",
        "    if norm:   \n",
        "        img = img / 255.\n",
        "        img = img.astype(np.float32)\n",
        "    if debug:\n",
        "        print (img.shape, img.dtype, img.min(), img.max())\n",
        "        \n",
        "    if resize:\n",
        "        img = cv2.resize(img, (resize[0], resize[1]))\n",
        "        \n",
        "    return img\n",
        "\n",
        "def plot_all (images, axis='off', figsize=(16, 8)):\n",
        "    \n",
        "    fig = plt.figure(figsize=figsize, dpi=80)\n",
        "    nplots = len(images)\n",
        "    for i in range(nplots):\n",
        "        plt.subplot(1,nplots,i+1)\n",
        "        plt.axis(axis)\n",
        "        plt.imshow(images[i])\n",
        "    plt.show()\n",
        "\n",
        "# Clean and create the inputs/ directory from scratch\n",
        "\n",
        "!rm -r inputs\n",
        "!mkdir inputs\n",
        "\n",
        "# Put some images into inputs/\n",
        "!cp testsets/real-inputs/* inputs/ \n",
        "\n",
        "# check the images in input/\n",
        "!ls inputs\n",
        "\n",
        "def plot_all(images):\n",
        "    fig, axes = plt.subplots(1, len(images), figsize=(20, 20))\n",
        "    for ax, img in zip(axes, images):\n",
        "        ax.imshow(img)\n",
        "        ax.axis(\"off\")\n",
        "    plt.show()"
      ]
    },
    {
      "cell_type": "code",
      "source": [
        "#@title ##**Upload images** { display-mode: \"form\" }\n",
        "\n",
        "\n",
        "upload_folder = \"/content/swin2sr/inputs\"\n",
        "result_folder = \"/content/swin2sr/results\"\n",
        "\n",
        "if os.path.isdir(upload_folder):\n",
        "    shutil.rmtree(upload_folder)\n",
        "os.makedirs(upload_folder)\n",
        "\n",
        "if os.path.isdir(result_folder):\n",
        "    shutil.rmtree(result_folder)\n",
        "os.makedirs(result_folder)\n",
        "\n",
        "\n",
        "basepath = os.getcwd()\n",
        "uploaded = files.upload()\n",
        "for filename in uploaded.keys():\n",
        "    shutil.move(os.path.join(basepath, filename), os.path.join(upload_folder, filename))"
      ],
      "metadata": {
        "id": "qk6FpQu1_2XN"
      },
      "execution_count": null,
      "outputs": []
    },
    {
      "cell_type": "code",
      "execution_count": null,
      "metadata": {
        "id": "oE34HYyYr31y"
      },
      "outputs": [],
      "source": [
        "#@title ##**Run** { display-mode: \"form\" }\n",
        "\n",
        "model_name = \"compressed_sr\" #@param [\"compressed_sr\",\"real_sr\",\"lightweight_sr\",\"classical_sr_2\",\"classical_sr_4\"]\n",
        "\n",
        "command = \"python main_test_swin2sr.py --folder_lq ./inputs/ --save_img_only\"\n",
        "if model_name == \"compressed_sr\":\n",
        "    command += \" --training_patch_size 48 --scale 4 --task compressed_sr --model_path model_zoo/swin2sr/Swin2SR_CompressedSR_X4_48.pth\"\n",
        "    \n",
        "if model_name == \"real_sr\":\n",
        "    command += \" --training_patch_size 64 --scale 4 --task real_sr --model_path model_zoo/swin2sr/Swin2SR_RealworldSR_X4_64_BSRGAN_PSNR.pth\"\n",
        "    \n",
        "if model_name == \"lightweight_sr\":\n",
        "    command += \" --training_patch_size 64 --scale 2 --task lightweight_sr --model_path model_zoo/swin2sr/Swin2SR_Lightweight_X2_64.pth\"\n",
        "    \n",
        "if model_name == \"classical_sr_2\":\n",
        "    command += \" --training_patch_size 64 --scale 2 --task classical_sr --model_path model_zoo/swin2sr/Swin2SR_ClassicalSR_X2_64.pth\"\n",
        "    \n",
        "if model_name == \"classical_sr_4\":\n",
        "    command += \" --training_patch_size 64 --scale 4 --task classical_sr --model_path model_zoo/swin2sr/Swin2SR_ClassicalSR_X4_64.pth\"\n",
        "  \n",
        "print(command)\n",
        "os.system(command)\n",
        "import os\n",
        "from glob import glob\n",
        "from PIL import Image\n",
        "import matplotlib.pyplot as plt\n"
      ]
    },
    {
      "cell_type": "code",
      "execution_count": null,
      "metadata": {
        "id": "m_5iqBpwr31z"
      },
      "outputs": [],
      "source": [
        "#@title ##**Visualize** { display-mode: \"form\" }\n",
        "\n",
        "# получение списка всех файлов в папке inputs\n",
        "inputs = sorted(glob(os.path.join('inputs', '**', '*'), recursive=True))\n",
        "\n",
        "# получение списка всех файлов .png в папке results\n",
        "outputs = sorted(glob(os.path.join('results', '**', '*.png'), recursive=True))\n",
        "\n",
        "# обработка и визуализация изображений\n",
        "for input_img_path, output_img_path in zip(inputs, outputs):\n",
        "    img_input = Image.open(input_img_path)\n",
        "    img_output = Image.open(output_img_path)\n",
        "\n",
        "    plot_all([img_input, img_output])\n"
      ]
    },
    {
      "cell_type": "code",
      "source": [
        "#@title ##**Download results** { display-mode: \"form\" }\n",
        "\n",
        "outputs_png = sorted(glob(os.path.join('results', '**', '*.png'), recursive=True))\n",
        "\n",
        "if len(outputs_png) == 1:\n",
        "    files.download(outputs_png[0])\n",
        "else:\n",
        "    zip_file = 'results.zip'\n",
        "    for file_path in outputs_png:\n",
        "        os.system(f\"cp {file_path} {result_folder}\")\n",
        "    os.system(f\"cd {result_folder} && zip -r -j {zip_file} *.png && cd ..\")\n",
        "    files.download(os.path.join(result_folder, zip_file))"
      ],
      "metadata": {
        "id": "pjxSkqb2DhhU"
      },
      "execution_count": null,
      "outputs": []
    }
  ],
  "metadata": {
    "accelerator": "GPU",
    "colab": {
      "provenance": [],
      "include_colab_link": true
    },
    "gpuClass": "standard",
    "kernelspec": {
      "display_name": "Python 3",
      "language": "python",
      "name": "python3"
    },
    "language_info": {
      "codemirror_mode": {
        "name": "ipython",
        "version": 3
      },
      "file_extension": ".py",
      "mimetype": "text/x-python",
      "name": "python",
      "nbconvert_exporter": "python",
      "pygments_lexer": "ipython3",
      "version": "3.7.12"
    }
  },
  "nbformat": 4,
  "nbformat_minor": 0
}