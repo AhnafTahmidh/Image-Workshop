{
  "cells": [
    {
      "cell_type": "markdown",
      "metadata": {
        "id": "view-in-github",
        "colab_type": "text"
      },
      "source": [
        "<a href=\"https://colab.research.google.com/github/detektor777/colab_list_image/blob/main/mystyle.ipynb\" target=\"_parent\"><img src=\"https://colab.research.google.com/assets/colab-badge.svg\" alt=\"Open In Colab\"/></a>"
      ]
    },
    {
      "cell_type": "markdown",
      "metadata": {
        "id": "IWPin9rCNbWU"
      },
      "source": [
        "https://drive.google.com/drive/"
      ]
    },
    {
      "cell_type": "code",
      "execution_count": null,
      "metadata": {
        "id": "J22L-DiBozvo"
      },
      "outputs": [],
      "source": [
        "#@title ##**Check GPU** { display-mode: \"form\" }\n",
        "!nvidia-smi"
      ]
    },
    {
      "cell_type": "code",
      "execution_count": null,
      "metadata": {
        "id": "gD0o6QydwRfy"
      },
      "outputs": [],
      "source": [
        "#@title ##**Clone** { display-mode: \"form\" }\n",
        "import sys\n",
        "path = f\"{sys.base_prefix}/local/lib/python{sys.version_info.major}.{sys.version_info.minor}/\"\n",
        "\n",
        "!pip install image-quality\n",
        "!pip install lpips\n",
        "!pip install gdown\n",
        "!pip install codegen\n",
        "!pip install astor\n",
        "\n",
        "%cd {path}\n",
        "!git clone https://github.com/google/mystyle.git"
      ]
    },
    {
      "cell_type": "code",
      "execution_count": null,
      "metadata": {
        "id": "QxLJlIM7OA4I"
      },
      "outputs": [],
      "source": [
        "#@title ##**Create folders** { display-mode: \"form\" }\n",
        "import os\n",
        "\n",
        "input_folder = path+'mystyle/input'\n",
        "input_test_forder = path+'mystyle/input_test'\n",
        "\n",
        "output_folder = path+'mystyle/output'\n",
        "output_train_folder = path+'mystyle/output_train'\n",
        "output_generate_folder = path+'mystyle/output_generate'\n",
        "output_test_folder = path+'mystyle/output_test'\n",
        "output_edit_folder = path+'mystyle/output_edit'\n",
        "\n",
        "trash_folder =  path+'mystyle/trash'\n",
        "model_folder =  path+'mystyle/model'\n",
        "\n",
        "if not os.path.exists(input_folder):\n",
        "    os.makedirs(input_folder)\n",
        "if not os.path.exists(output_folder):\n",
        "    os.makedirs(output_folder)\n",
        "if not os.path.exists(trash_folder):\n",
        "    os.makedirs(trash_folder)\n",
        "if not os.path.exists(model_folder):\n",
        "    os.makedirs(model_folder)\n",
        "if not os.path.exists(output_train_folder):\n",
        "    os.makedirs(output_train_folder)\n",
        "if not os.path.exists(output_test_folder):\n",
        "    os.makedirs(output_test_folder)\n",
        "if not os.path.exists(input_test_forder):\n",
        "    os.makedirs(input_test_forder)\n",
        "if not os.path.exists(output_edit_folder):\n",
        "    os.makedirs(output_edit_folder)"
      ]
    },
    {
      "cell_type": "code",
      "source": [
        "#@title ##**Add path** { display-mode: \"form\" }\n",
        "import sys\n",
        "import os\n",
        "module_path = '/usr/local/lib/python3.10/mystyle/third_party/stylegan2_ada_pytorch/'\n",
        "if module_path not in sys.path:\n",
        "    sys.path.insert(0, module_path)\n",
        "\n",
        "if 'PYTHONPATH' in os.environ:\n",
        "    paths = os.environ['PYTHONPATH'].split(':')\n",
        "    if module_path not in paths:\n",
        "        os.environ['PYTHONPATH'] += ':' + module_path\n",
        "else:\n",
        "    os.environ['PYTHONPATH'] = module_path\n",
        "\n",
        "print('......................................PYTHONPATH:')\n",
        "print(os.environ['PYTHONPATH'])\n",
        "print()\n",
        "print('......................................sys.path:')\n",
        "for path in sys.path:\n",
        "    print(path)"
      ],
      "metadata": {
        "id": "wYadyj76Apgh"
      },
      "execution_count": null,
      "outputs": []
    },
    {
      "cell_type": "code",
      "source": [
        "#@title ##**Fix code** { display-mode: \"form\" }\n",
        "import ast\n",
        "import os\n",
        "import astor\n",
        "import _ast\n",
        "path = f\"{sys.base_prefix}/local/lib/python{sys.version_info.major}.{sys.version_info.minor}/\"\n",
        "def add_code_to_function(file_path, function_name, code_string):\n",
        "    with open(file_path) as f:\n",
        "        tree = ast.parse(f.read())\n",
        "    for node in tree.body:\n",
        "        if isinstance(node, ast.FunctionDef) and node.name == function_name:\n",
        "            parsed_code = ast.parse(code_string).body\n",
        "            node.body = parsed_code + node.body\n",
        "            with open(file_path, 'w') as f:\n",
        "                f.write(astor.to_source(tree))\n",
        "            return\n",
        "    raise ValueError(f\"No function named {function_name} found in file {file_path}\")\n",
        "\n",
        "file_path_generate = path+'/mystyle/generate.py'\n",
        "function_name_generate = 'main'\n",
        "code_string_generate = f\"\"\"raw_args = ['--anchors_path', '{path}/mystyle/output_train/w/',\n",
        "    '--generator_path', '{path}/mystyle/output_train/mystyle_model.pt', \n",
        "    '--output_path', '{path}/mystyle/output_generate']\"\"\"\n",
        "\n",
        "add_code_to_function(file_path_generate, function_name_generate, code_string_generate)\n",
        "\n",
        "file_path_test = '/usr/local/lib/python3.10/mystyle/project.py'\n",
        "function_name_test = 'main'\n",
        "code_string_test = f\"\"\"raw_args = ['--anchor_dir', '{path}/mystyle/output_train/w/',\n",
        "    '--generator_path', '{path}/mystyle/output_train/mystyle_model.pt',\n",
        "    '--images_dir', '{path}/mystyle/input_test', \n",
        "    '--output_dir', '{path}/mystyle/output_test']\"\"\"\n",
        "\n",
        "add_code_to_function(file_path_test, function_name_test, code_string_test)\n"
      ],
      "metadata": {
        "id": "8Qkf4gRjYgDD"
      },
      "execution_count": null,
      "outputs": []
    },
    {
      "cell_type": "code",
      "execution_count": null,
      "metadata": {
        "id": "legFzE3GQseN"
      },
      "outputs": [],
      "source": [
        "#@title ##**Load models** { display-mode: \"form\" }\n",
        "import gdown\n",
        "\n",
        "url = 'https://drive.google.com/uc?id=1KW7bjndL3QG3sxBbZxreGHigcCCpsDgn'\n",
        "model_id =  path+'mystyle/model/model_ir_se50.pth'\n",
        "gdown.download(url, model_id, quiet=False)\n",
        "\n",
        "print('model_ir_se50.pth loaded')\n",
        "\n",
        "import requests\n",
        "import bz2\n",
        "import os\n",
        "\n",
        "url = 'http://dlib.net/files/shape_predictor_68_face_landmarks.dat.bz2'\n",
        "landmarks_model =  path+'/mystyle/model/shape_predictor_68_face_landmarks.dat'\n",
        "\n",
        "response = requests.get(url)\n",
        "with open('temp.bz2', 'wb') as f:\n",
        "    f.write(response.content)\n",
        "\n",
        "with open(landmarks_model, 'wb') as f:\n",
        "    f.write(bz2.BZ2File('temp.bz2').read())\n",
        "\n",
        "os.remove('temp.bz2')\n",
        "\n",
        "print('shape_predictor_68_face_landmarks.dat loaded')\n",
        "\n",
        "url = 'https://nvlabs-fi-cdn.nvidia.com/stylegan2-ada-pytorch/pretrained/ffhq.pkl'\n",
        "model_generator =  path+'/mystyle/model/ffhq.pkl'\n",
        "gdown.download(url, model_generator, quiet=False)\n",
        "\n",
        "print('ffhq.pkl loaded')\n",
        "\n",
        "url = 'https://drive.google.com/uc?id=1M-hsL3W_cJKs77xM1mwq2e9-J0_m7rHP'\n",
        "model_encoder =  path+'/mystyle/model/faces_w_encoder.pt'\n",
        "gdown.download(url, model_encoder, quiet=False) \n",
        "\n",
        "print('faces_w_encoder.pt loaded')\n"
      ]
    },
    {
      "cell_type": "code",
      "source": [
        "#@title ##**Load test images** { display-mode: \"form\" }\n",
        "import zipfile\n",
        "\n",
        "url = 'https://drive.google.com/uc?id=1a2VSSFzmgJVcchGmcD_TQ82ENxizhghz'\n",
        "\n",
        "path_zip = path+'/mystyle/data.zip' \n",
        "if not os.path.exists(input_folder):\n",
        "    os.makedirs(input_folder)\n",
        "\n",
        "gdown.download(url, path_zip, quiet=False)\n",
        "\n",
        "try:\n",
        "    with zipfile.ZipFile(path_zip, 'r') as zip_ref:\n",
        "        zip_ref.extractall(input_folder)\n",
        "    print(\"Extraction successful\")\n",
        "except zipfile.BadZipFile:\n",
        "    print(\"Error: File is not a zip file\")"
      ],
      "metadata": {
        "id": "IStF_Fzs4wlx"
      },
      "execution_count": null,
      "outputs": []
    },
    {
      "cell_type": "code",
      "source": [
        "#@title ##**Visualization (optional)** { display-mode: \"form\" }\n",
        "import os\n",
        "import matplotlib.pyplot as plt\n",
        "\n",
        "file_list = os.listdir(input_folder)\n",
        "num_cols = 5\n",
        "num_images = len(file_list)\n",
        "num_rows = (num_images + num_cols - 1) // num_cols\n",
        "fig, axs = plt.subplots(num_rows, num_cols, figsize=(15, 15))\n",
        "\n",
        "for i, filename in enumerate(file_list):\n",
        "    filepath = os.path.join(input_folder, filename)\n",
        "    img = plt.imread(filepath)\n",
        "    row_idx = i // num_cols\n",
        "    col_idx = i % num_cols\n",
        "    axs[row_idx, col_idx].imshow(img)\n",
        "    axs[row_idx, col_idx].axis('off')\n",
        "\n",
        "plt.show()"
      ],
      "metadata": {
        "id": "CEOQfdtJ7Lyt"
      },
      "execution_count": null,
      "outputs": []
    },
    {
      "cell_type": "code",
      "execution_count": null,
      "metadata": {
        "id": "NHImRYHOwthG"
      },
      "outputs": [],
      "source": [
        "#@title ##**1. Crop and aligning faces** { display-mode: \"form\" }\n",
        "#from utils import id_utils, io_utils\n",
        "%cd {path}mystyle\n",
        "import os\n",
        "os.chdir( path+'/mystyle/utils')\n",
        "!python {path}mystyle/data_preprcoess/0_align_face.py \\\n",
        "    --images_dir {input_folder} \\\n",
        "    --save_dir {output_folder} \\\n",
        "    --trash_dir {trash_folder} \\\n",
        "    --min_size 200 \\\n",
        "    --output_size 1024 \\\n",
        "    --landmarks_model {landmarks_model}\n",
        "\n",
        "output_folder_count = len(os.listdir(output_folder))\n",
        "\n",
        "print(f'Output count {output_folder_count}')"
      ]
    },
    {
      "cell_type": "code",
      "execution_count": null,
      "metadata": {
        "id": "1P-lQj6ovwwY"
      },
      "outputs": [],
      "source": [
        "#@title ##**Visualization (optional)** { display-mode: \"form\" }\n",
        "import os\n",
        "import matplotlib.pyplot as plt\n",
        "\n",
        "file_list = os.listdir(output_folder)\n",
        "num_cols = 5\n",
        "num_images = len(file_list)\n",
        "num_rows = (num_images + num_cols - 1) // num_cols\n",
        "fig, axs = plt.subplots(num_rows, num_cols, figsize=(15, 15))\n",
        "\n",
        "for i, filename in enumerate(file_list):\n",
        "    filepath = os.path.join(output_folder, filename)\n",
        "    img = plt.imread(filepath)\n",
        "    row_idx = i // num_cols\n",
        "    col_idx = i % num_cols\n",
        "    axs[row_idx, col_idx].imshow(img)\n",
        "    axs[row_idx, col_idx].axis('off')\n",
        "\n",
        "plt.show()"
      ]
    },
    {
      "cell_type": "code",
      "execution_count": null,
      "metadata": {
        "id": "_KXYlS6A12Sm"
      },
      "outputs": [],
      "source": [
        "#@title ##**2. Train (☕️~30 minutes)** { display-mode: \"form\" }\n",
        "path = f\"{sys.base_prefix}/local/lib/python{sys.version_info.major}.{sys.version_info.minor}/\"\n",
        "print(path)\n",
        "%cd {path}mystyle\n",
        "\n",
        "#import torch_utils\n",
        "\n",
        "#os.chdir( path+'mystyle/third_party/stylegan2_ada_pytorch/torch_utils')\n",
        "#from torch_utils import persistence\n",
        "!python {path}mystyle/train.py \\\n",
        "    --images_dir {output_folder} \\\n",
        "    --output_dir {output_train_folder} \\\n",
        "    --generator_path {path}mystyle/model/ffhq.pkl \\\n",
        "    --encoder_checkpoint {path}mystyle/model/faces_w_encoder.pt"
      ]
    },
    {
      "cell_type": "code",
      "source": [
        "#@title ##**Visualization (optional)** { display-mode: \"form\" }\n",
        "\n",
        "\n",
        "# получаем список имен файлов в каждой директории\n",
        "\n",
        "\n",
        "import os\n",
        "import matplotlib.pyplot as plt\n",
        "from PIL import Image\n",
        "\n",
        "\n",
        "# Получаем список файлов в папке input\n",
        "input_files = sorted(os.listdir(output_folder))\n",
        "\n",
        "# Для каждого файла в input_dir показываем соответствующую пару изображений\n",
        "for i in range(0, len(input_files), 2):\n",
        "    input_file = os.path.join(output_folder, input_files[i])\n",
        "    output_file = os.path.join(output_train_folder+'/out_image', input_files[i])\n",
        "\n",
        "    # Открываем изображения с помощью библиотеки PIL\n",
        "    input_image = Image.open(input_file)\n",
        "    output_image = Image.open(output_file)\n",
        "\n",
        "    # Создаем новую фигуру с двумя подграфиками\n",
        "    fig, axes = plt.subplots(nrows=1, ncols=2)\n",
        "\n",
        "    # Показываем изображения в подграфиках\n",
        "    axes[0].imshow(input_image)\n",
        "    axes[1].imshow(output_image)\n",
        "\n",
        "    # Удаляем оси на графиках\n",
        "    for ax in axes:\n",
        "        ax.axis(\"off\")\n",
        "\n",
        "    # Показываем фигуру с изображениями\n",
        "    plt.show()\n",
        "\n"
      ],
      "metadata": {
        "id": "Ukl4C-rL8Uj_"
      },
      "execution_count": null,
      "outputs": []
    },
    {
      "cell_type": "code",
      "source": [
        "#@title ##**Copy result to google drive (optional)** { display-mode: \"form\" }\n",
        "from google.colab import drive\n",
        "drive.mount('/content/drive')\n",
        "import shutil\n",
        "\n",
        "source_folder = \"/usr/local/lib/python3.10/mystyle/output_train\"\n",
        "destination_folder = \"/content/drive/MyDrive/output_train\"\n",
        "\n",
        "shutil.copytree(source_folder, destination_folder)"
      ],
      "metadata": {
        "id": "Q7W77Txyv_xZ"
      },
      "execution_count": null,
      "outputs": []
    },
    {
      "cell_type": "code",
      "source": [
        "#@title ##**Generate** { display-mode: \"form\" }\n",
        "import shutil\n",
        "\n",
        "path = f\"{sys.base_prefix}/local/lib/python{sys.version_info.major}.{sys.version_info.minor}/\"\n",
        "#os.chdir( path+'mystyle/')\n",
        "print(path)\n",
        "%cd {path}\n",
        "\n",
        "if os.path.isdir(output_generate_folder):\n",
        "    shutil.rmtree(output_generate_folder)\n",
        "os.makedirs(output_generate_folder)\n",
        "\n",
        "\n",
        "!python {path}mystyle/generate.py \n"
      ],
      "metadata": {
        "id": "9FoqB3_WgCEs"
      },
      "execution_count": null,
      "outputs": []
    },
    {
      "cell_type": "code",
      "execution_count": null,
      "metadata": {
        "id": "BycKCbKuxM26"
      },
      "outputs": [],
      "source": [
        "#@title ##**Visualization (optional)** { display-mode: \"form\" }\n",
        "import os\n",
        "import matplotlib.pyplot as plt\n",
        "\n",
        "output_out_train_folder = output_generate_folder+'/images';\n",
        "print(output_out_train_folder)\n",
        "file_list = os.listdir(output_out_train_folder)\n",
        "num_cols = 5\n",
        "num_images = len(file_list)\n",
        "num_rows = (num_images + num_cols - 1) // num_cols\n",
        "fig, axs = plt.subplots(num_rows, num_cols, figsize=(15, 15))\n",
        "\n",
        "for i, filename in enumerate(file_list):\n",
        "    filepath = os.path.join(output_out_train_folder, filename)\n",
        "    img = plt.imread(filepath)\n",
        "    row_idx = i // num_cols\n",
        "    col_idx = i % num_cols\n",
        "    axs[row_idx, col_idx].imshow(img)\n",
        "    axs[row_idx, col_idx].axis('off')\n",
        "\n",
        "plt.show()"
      ]
    },
    {
      "cell_type": "code",
      "source": [
        "#@title ##**Load test image** { display-mode: \"form\" }\n",
        "import requests\n",
        "\n",
        "url = \"https://drive.google.com/u/0/uc?id=15T663A-kBXcB4MxIuQ8PKaNOTkgzaLm9&export=download\"\n",
        "r = requests.get(url)\n",
        "with open(input_test_forder+\"/test.jpg\", \"wb\") as f:\n",
        "    f.write(r.content)"
      ],
      "metadata": {
        "id": "WTz03084gdyi"
      },
      "execution_count": null,
      "outputs": []
    },
    {
      "cell_type": "code",
      "source": [
        "#@title ##**Visualization (optional)** { display-mode: \"form\" }\n",
        "import matplotlib.pyplot as plt\n",
        "import matplotlib.image as mpimg\n",
        "\n",
        "img = mpimg.imread(input_test_forder+\"/test.jpg\")\n",
        "\n",
        "plt.imshow(img)\n",
        "plt.show()"
      ],
      "metadata": {
        "id": "r2XoWhsGhYuO"
      },
      "execution_count": null,
      "outputs": []
    },
    {
      "cell_type": "code",
      "source": [
        "#@title ##**3. Test** { display-mode: \"form\" }\n",
        "\n",
        "path = f\"{sys.base_prefix}/local/lib/python{sys.version_info.major}.{sys.version_info.minor}/\"\n",
        "#os.chdir( path+'mystyle/')\n",
        "print(path)\n",
        "%cd {path}\n",
        "\n",
        "if os.path.isdir(output_test_folder):\n",
        "    shutil.rmtree(output_test_folder)\n",
        "os.makedirs(output_test_folder)\n",
        "\n",
        "!python {path}mystyle/project.py "
      ],
      "metadata": {
        "id": "xRIqt_vr492e"
      },
      "execution_count": null,
      "outputs": []
    },
    {
      "cell_type": "code",
      "source": [
        "#@title ##**Visualization (optional)** { display-mode: \"form\" }\n",
        "\n",
        "import os\n",
        "import matplotlib.pyplot as plt\n",
        "from PIL import Image\n",
        "\n",
        "input_files = sorted([f for f in os.listdir(input_test_forder) if f.endswith(('.jpg', '.png'))])\n",
        "\n",
        "for i in range(0, len(input_files), 2):\n",
        "    input_file = os.path.join(input_test_forder, input_files[i])\n",
        "    output_file = os.path.join(output_test_folder+'/out_image', input_files[i])\n",
        "\n",
        "    input_image = Image.open(input_file)\n",
        "    output_image = Image.open(output_file)\n",
        "\n",
        "    fig, axes = plt.subplots(nrows=1, ncols=2)\n",
        "\n",
        "    axes[0].imshow(input_image)\n",
        "    axes[1].imshow(output_image)\n",
        "    for ax in axes:\n",
        "        ax.axis(\"off\")\n",
        "    plt.show()\n"
      ],
      "metadata": {
        "id": "Xq_3WcPL8j1I"
      },
      "execution_count": null,
      "outputs": []
    },
    {
      "cell_type": "code",
      "source": [
        "#@title ##**Edit (don't work)** { display-mode: \"form\" }\n",
        "\n",
        "path = f\"{sys.base_prefix}/local/lib/python{sys.version_info.major}.{sys.version_info.minor}/\"\n",
        "#os.chdir( path+'mystyle/')\n",
        "print(path)\n",
        "%cd {path}\n",
        "\n",
        "!python {path}mystyle/edit.py \\\n",
        "  --alphas_dir {output_test_folder}'/alpha' \\\n",
        "  --output_dir {output_edit_folder} \\\n",
        "  --anchor_dir {output_train_folder}'/w' \\\n",
        "  --generator_path {output_train_folder}'/mystyle_model.pt' \\\n",
        "  --editing_direction_path {output_test_folder}'/w/test.pt'"
      ],
      "metadata": {
        "id": "KlmPclBC98Pc"
      },
      "execution_count": null,
      "outputs": []
    }
  ],
  "metadata": {
    "accelerator": "GPU",
    "colab": {
      "provenance": [],
      "include_colab_link": true
    },
    "gpuClass": "standard",
    "kernelspec": {
      "display_name": "Python 3",
      "name": "python3"
    },
    "language_info": {
      "name": "python"
    }
  },
  "nbformat": 4,
  "nbformat_minor": 0
}