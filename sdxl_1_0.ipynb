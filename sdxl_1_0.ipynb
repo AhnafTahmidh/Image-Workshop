{
  "nbformat": 4,
  "nbformat_minor": 0,
  "metadata": {
    "colab": {
      "provenance": [],
      "gpuType": "T4",
      "authorship_tag": "ABX9TyMOxat18a0ZUR4Zaf7r+BL/",
      "include_colab_link": true
    },
    "kernelspec": {
      "name": "python3",
      "display_name": "Python 3"
    },
    "language_info": {
      "name": "python"
    },
    "accelerator": "GPU"
  },
  "cells": [
    {
      "cell_type": "markdown",
      "metadata": {
        "id": "view-in-github",
        "colab_type": "text"
      },
      "source": [
        "<a href=\"https://colab.research.google.com/github/detektor777/colab_list_image/blob/main/sdxl_1_0.ipynb\" target=\"_parent\"><img src=\"https://colab.research.google.com/assets/colab-badge.svg\" alt=\"Open In Colab\"/></a>"
      ]
    },
    {
      "cell_type": "code",
      "execution_count": null,
      "metadata": {
        "id": "LOB3MpHU18-U"
      },
      "outputs": [],
      "source": [
        "#@title ##**Install** { display-mode: \"form\" }\n",
        "%%capture\n",
        "!pip install -q invisible_watermark transformers accelerate safetensors diffusers controlnet_aux==0.0.7 xformers mediapy\n",
        "import torch\n",
        "from diffusers import StableDiffusionXLImg2ImgPipeline, DiffusionPipeline, KDPM2AncestralDiscreteScheduler, StableDiffusionXLPipeline, AutoencoderKL\n",
        "import gc\n",
        "from PIL import Image\n",
        "import requests\n",
        "from io import BytesIO\n",
        "from IPython.display import display\n",
        "model_base = \"stabilityai/stable-diffusion-xl-base-1.0\"\n",
        "v_autoencoder = \"madebyollin/sdxl-vae-fp16-fix\" # fix vae for run in fp16 precision without generating NaNs\n",
        "\n",
        "vae = AutoencoderKL.from_pretrained(v_autoencoder, torch_dtype=torch.float16)\n",
        "\n",
        "pipe = StableDiffusionXLPipeline.from_pretrained(\n",
        "    model_base,\n",
        "    vae=vae,\n",
        "    torch_dtype=torch.float16,\n",
        "    use_safetensors=True,\n",
        "    variant=\"fp16\",\n",
        "    add_watermarker=False, # no watermarker\n",
        "    )\n",
        "\n",
        "pipe.safety_checker = None\n",
        "\n",
        "pipe.to(\"cuda\")\n",
        "model_refiner = \"stabilityai/stable-diffusion-xl-refiner-1.0\"\n",
        "\n",
        "pipe_refiner = StableDiffusionXLImg2ImgPipeline.from_pretrained(\n",
        "    model_refiner,\n",
        "    torch_dtype=torch.float16,\n",
        "    use_safetensors=True,\n",
        "    variant=\"fp16\",\n",
        "    add_watermarker=False, # no watermarker\n",
        "    )\n",
        "\n",
        "#pipe_refiner.to(\"cuda\")\n",
        "pipe_refiner.enable_model_cpu_offload()\n",
        "#(Optional) Change the scheduler\n",
        "pipe.scheduler = KDPM2AncestralDiscreteScheduler.from_config(\n",
        "pipe.scheduler.config, use_karras_sigmas=False\n",
        ")\n",
        "#generator = torch.Generator().manual_seed(42)"
      ]
    },
    {
      "cell_type": "code",
      "source": [
        "#@title ##**Create** { display-mode: \"form\" }\n",
        "prompt =  \"Ukrainian flag by Pascal Campion, Luis Royo\" #@param {type:\"string\"}\n",
        "prompt2 = \"\"\n",
        "\n",
        "\n",
        "negative_prompt = ''#@param {type:\"string\"}\n",
        "negative_prompt2 = ''\n",
        "\n",
        "scale = 10 #@param {type:\"integer\"}\n",
        "steps = 30 #@param {type:\"integer\"}\n",
        "\n",
        "height = 1024 #@param {type:\"integer\"}\n",
        "width = 1024 #@param {type:\"integer\"}\n",
        "\n",
        "image_base = pipe(\n",
        "    prompt=prompt,\n",
        "    prompt_2=prompt2,\n",
        "    height=1024,\n",
        "    width=1024,\n",
        "    negative_prompt=negative_prompt,\n",
        "    negative_prompt_2=negative_prompt2,\n",
        "    guidance_scale=scale,\n",
        "    num_inference_steps=steps,\n",
        "    ).images[0]\n",
        "\n",
        "gc.collect()\n",
        "torch.cuda.empty_cache()"
      ],
      "metadata": {
        "id": "EPue8FyZ2Ekr"
      },
      "execution_count": null,
      "outputs": []
    },
    {
      "cell_type": "code",
      "source": [
        "#@title ##**Show** { display-mode: \"form\" }\n",
        "image_base"
      ],
      "metadata": {
        "id": "KzSQS6xK2Ogd"
      },
      "execution_count": null,
      "outputs": []
    }
  ]
}